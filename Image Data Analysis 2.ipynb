{
 "cells": [
  {
   "cell_type": "code",
   "execution_count": 12,
   "id": "759d633e",
   "metadata": {},
   "outputs": [],
   "source": [
    "import numpy as np\n",
    "import matplotlib.pyplot as plt\n",
    "import pandas as pd\n",
    "f=500e-3\n",
    "wavelength=670e-9\n",
    "b=f*wavelength"
   ]
  },
  {
   "cell_type": "code",
   "execution_count": 13,
   "id": "eea6749f",
   "metadata": {},
   "outputs": [
    {
     "name": "stdout",
     "output_type": "stream",
     "text": [
      "    Distance_(pixels)  Gray_Value\n",
      "0                   0      0.2871\n",
      "1                   1      0.2871\n",
      "2                   2      0.5933\n",
      "3                   3      0.5933\n",
      "4                   4      0.5933\n",
      "..                ...         ...\n",
      "71                 71      0.9809\n",
      "72                 72      0.9187\n",
      "73                 73      0.8923\n",
      "74                 74      0.4785\n",
      "75                 75      0.4785\n",
      "\n",
      "[76 rows x 2 columns]\n"
     ]
    }
   ],
   "source": [
    "df2= pd.read_excel('DoubleSlit.xlsx')\n",
    "print(df2)"
   ]
  },
  {
   "cell_type": "code",
   "execution_count": 14,
   "id": "84161e9a",
   "metadata": {},
   "outputs": [
    {
     "name": "stdout",
     "output_type": "stream",
     "text": [
      "[ 0  1  2  3  4  5  6  7  8  9 10 11 12 13 14 15 16 17 18 19 20 21 22 23\n",
      " 24 25 26 27 28 29 30 31 32 33 34 35 36 37 38 39 40 41 42 43 44 45 46 47\n",
      " 48 49 50 51 52 53 54 55 56 57 58 59 60 61 62 63 64 65 66 67 68 69 70 71\n",
      " 72 73 74 75]\n",
      "[ 0.2871  0.2871  0.5933  0.5933  0.5933  0.5742  0.5742  0.555   0.555\n",
      "  0.555   1.0287  1.1603  1.4091  2.0885  2.433   3.0933  3.3325  3.4306\n",
      "  3.5072  3.2919  3.2536  3.8636  5.1196  7.5263 12.2153 16.8923 26.1316\n",
      " 36.6244 49.2919 59.9785 70.634  81.8062 91.0096 96.2895 98.9833 98.0431\n",
      " 94.8756 88.8014 80.1005 70.6029 59.4115 48.7129 38.2727 30.4617 22.823\n",
      " 18.0526 14.3947 11.7943  9.7225  7.5024  5.9641  5.3852  4.6435  3.8541\n",
      "  3.4833  3.0383  2.8469  2.7608  2.9067  2.9593  2.9258  2.8014  2.7321\n",
      "  2.3876  2.2153  2.0431  1.5526  1.555   1.5167  1.2871  1.2488  0.9809\n",
      "  0.9187  0.8923  0.4785  0.4785]\n"
     ]
    }
   ],
   "source": [
    "from scipy.optimize import curve_fit\n",
    "import math\n",
    "x1 = np.array(df2['Distance_(pixels)'])\n",
    "I1 = np.array(df2['Gray_Value'])\n",
    "print(x1)\n",
    "print(I1)"
   ]
  },
  {
   "cell_type": "code",
   "execution_count": 17,
   "id": "da7322e7",
   "metadata": {},
   "outputs": [
    {
     "name": "stdout",
     "output_type": "stream",
     "text": [
      "The fit parameters are:  [6.99993213e-05 6.99989311e-05 1.62124288e-08]\n"
     ]
    },
    {
     "data": {
      "image/png": "[encoded data removed]",
      "text/plain": [
       "<Figure size 432x288 with 1 Axes>"
      ]
     },
     "metadata": {
      "needs_background": "light"
     },
     "output_type": "display_data"
    }
   ],
   "source": [
    "def single_slit_function(x,a,d,amplitude):\n",
    "    return 4*amplitude*(((math.pi*a*x)/b)**2)*(np.sin((math.pi*a*x)/b)**2)*((np.cos((math.pi*d*x)/b))**2)\n",
    "                                                   \n",
    "guess_a = 7e-5 \n",
    "guess_d = 7e-5\n",
    "guess_amplitude = 1\n",
    "p0 = [guess_a,guess_d,guess_amplitude]                                                   \n",
    "\n",
    "fit = curve_fit(single_slit_function,x1,I1,p0=p0)                                                   \n",
    "print('The fit parameters are: ',fit[0])\n",
    "data_fit = single_slit_function(x1, *fit[0]) \n",
    "plt.xlabel('x')\n",
    "plt.ylabel('I')\n",
    "plt.plot(x1,data_fit)\n",
    "plt.plot(x1,I1)\n",
    "plt.show()  "
   ]
  },
  {
   "cell_type": "code",
   "execution_count": null,
   "id": "12666c47",
   "metadata": {},
   "outputs": [],
   "source": []
  },
  {
   "cell_type": "code",
   "execution_count": null,
   "id": "860325c4",
   "metadata": {},
   "outputs": [],
   "source": []
  }
 ],
 "metadata": {
  "kernelspec": {
   "display_name": "Python 3",
   "language": "python",
   "name": "python3"
  },
  "language_info": {
   "codemirror_mode": {
    "name": "ipython",
    "version": 3
   },
   "file_extension": ".py",
   "mimetype": "text/x-python",
   "name": "python",
   "nbconvert_exporter": "python",
   "pygments_lexer": "ipython3",
   "version": "3.8.8"
  }
 },
 "nbformat": 4,
 "nbformat_minor": 5
}
