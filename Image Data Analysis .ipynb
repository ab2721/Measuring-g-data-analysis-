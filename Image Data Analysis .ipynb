{
 "cells": [
  {
   "cell_type": "code",
   "execution_count": 26,
   "id": "81c8343b",
   "metadata": {},
   "outputs": [
    {
     "name": "stdout",
     "output_type": "stream",
     "text": [
      "3.141592653589793\n"
     ]
    }
   ],
   "source": [
    "import numpy as np\n",
    "import pandas as pd\n",
    "import matplotlib.pyplot as plt\n",
    "import math\n",
    "import scipy as sp \n",
    "print(math.pi)\n",
    "f=500e-3\n",
    "wavelength=670e-9\n",
    "b=f*wavelength"
   ]
  },
  {
   "cell_type": "code",
   "execution_count": 27,
   "id": "43f5f659",
   "metadata": {},
   "outputs": [
    {
     "name": "stdout",
     "output_type": "stream",
     "text": [
      "    Distance_(pixels)  Gray_Value\n",
      "0                   0       0.283\n",
      "1                   1       0.283\n",
      "2                   2       0.747\n",
      "3                   3       0.747\n",
      "4                   4       0.747\n",
      "..                ...         ...\n",
      "59                 59       0.687\n",
      "60                 60       0.667\n",
      "61                 61       0.646\n",
      "62                 62       0.646\n",
      "63                 63       0.626\n",
      "\n",
      "[64 rows x 2 columns]\n"
     ]
    }
   ],
   "source": [
    "df1= pd.read_excel('Single_Slit_Data.xlsx')\n",
    "print(df1)"
   ]
  },
  {
   "cell_type": "code",
   "execution_count": 28,
   "id": "3a78cd94",
   "metadata": {},
   "outputs": [],
   "source": [
    "from scipy.optimize import curve_fit"
   ]
  },
  {
   "cell_type": "code",
   "execution_count": 32,
   "id": "38dc3bb7",
   "metadata": {},
   "outputs": [
    {
     "name": "stdout",
     "output_type": "stream",
     "text": [
      "[ 0  1  2  3  4  5  6  7  8  9 10 11 12 13 14 15 16 17 18 19 20 21 22 23\n",
      " 24 25 26 27 28 29 30 31 32 33 34 35 36 37 38 39 40 41 42 43 44 45 46 47\n",
      " 48 49 50 51 52 53 54 55 56 57 58 59 60 61 62 63]\n",
      "[  0.283   0.283   0.747   0.747   0.747   1.071   1.071   1.394   1.394\n",
      "   1.394   2.03    2.336   2.641   2.646   2.505   2.134   1.879   1.664\n",
      "   2.997   5.985  10.803  19.263  30.861  43.894  61.22   77.596  95.452\n",
      " 109.912 123.088 129.386 130.896 127.601 117.611 105.975  90.149  74.124\n",
      "  56.621  42.215  28.533  18.596  13.018   9.429   7.52    7.205   7.217\n",
      "   7.77    7.997   7.874   7.242   6.457   4.528   4.048   3.199   2.225\n",
      "   1.621   1.111   0.985   0.995   0.687   0.687   0.667   0.646   0.646\n",
      "   0.626]\n"
     ]
    }
   ],
   "source": [
    "x = np.array(df1['Distance_(pixels)'])\n",
    "I = np.array(df1['Gray_Value'])\n",
    "print(x)\n",
    "print(I)"
   ]
  },
  {
   "cell_type": "code",
   "execution_count": 36,
   "id": "1675f66c",
   "metadata": {
    "scrolled": true
   },
   "outputs": [
    {
     "name": "stdout",
     "output_type": "stream",
     "text": [
      "The fit parameters are:  [6.99980892e-05 4.51624684e-08]\n"
     ]
    },
    {
     "data": {
      "image/png": "[encoded data removed]",
      "text/plain": [
       "<Figure size 432x288 with 1 Axes>"
      ]
     },
     "metadata": {
      "needs_background": "light"
     },
     "output_type": "display_data"
    }
   ],
   "source": [
    "def single_slit_function(x,a,amplitude):\n",
    "    return amplitude*(((math.pi*a*x)/b)**2)*(np.sin((math.pi*a*x)/b)**2)\n",
    "                                                   \n",
    "guess_a = 7e-5                                             \n",
    "guess_amplitude = 1\n",
    "p0 = [guess_a,guess_amplitude]                                                   \n",
    "\n",
    "fit = curve_fit(single_slit_function,x,I,p0=p0)                                                   \n",
    "print('The fit parameters are: ',fit[0])\n",
    "data_fit = single_slit_function(x, *fit[0]) \n",
    "plt.xlabel('x')\n",
    "plt.ylabel('I')\n",
    "plt.plot(x,data_fit)\n",
    "plt.plot(x,I)\n",
    "plt.show()                                                   \n",
    "\n",
    "\n"
   ]
  },
  {
   "cell_type": "code",
   "execution_count": 34,
   "id": "d7d25a03",
   "metadata": {},
   "outputs": [
    {
     "name": "stdout",
     "output_type": "stream",
     "text": [
      "    Distance_(pixels)  Gray_Value\n",
      "0                   0      0.2871\n",
      "1                   1      0.2871\n",
      "2                   2      0.5933\n",
      "3                   3      0.5933\n",
      "4                   4      0.5933\n",
      "..                ...         ...\n",
      "71                 71      0.9809\n",
      "72                 72      0.9187\n",
      "73                 73      0.8923\n",
      "74                 74      0.4785\n",
      "75                 75      0.4785\n",
      "\n",
      "[76 rows x 2 columns]\n"
     ]
    }
   ],
   "source": [
    "#df2= pd.read_excel('DoubleSlit.xlsx')\n",
    "#print(df2)"
   ]
  },
  {
   "cell_type": "code",
   "execution_count": null,
   "id": "4c3968b4",
   "metadata": {},
   "outputs": [],
   "source": [
    "#x1 = np.array(df1['Distance_(pixels)'])\n",
    "#I1 = np.array(df1['Gray_Value'])\n",
    "#print(x)\n",
    "#print(I)"
   ]
  }
 ],
 "metadata": {
  "kernelspec": {
   "display_name": "Python 3",
   "language": "python",
   "name": "python3"
  },
  "language_info": {
   "codemirror_mode": {
    "name": "ipython",
    "version": 3
   },
   "file_extension": ".py",
   "mimetype": "text/x-python",
   "name": "python",
   "nbconvert_exporter": "python",
   "pygments_lexer": "ipython3",
   "version": "3.8.8"
  }
 },
 "nbformat": 4,
 "nbformat_minor": 5
}
