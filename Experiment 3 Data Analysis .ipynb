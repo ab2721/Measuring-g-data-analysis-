{
 "cells": [
  {
   "cell_type": "code",
   "execution_count": 1,
   "id": "a181d0d7",
   "metadata": {},
   "outputs": [],
   "source": [
    "import numpy as np"
   ]
  },
  {
   "cell_type": "code",
   "execution_count": 2,
   "id": "f9451fff",
   "metadata": {},
   "outputs": [],
   "source": [
    "MP=0.74487"
   ]
  },
  {
   "cell_type": "code",
   "execution_count": 3,
   "id": "6a59d1be",
   "metadata": {},
   "outputs": [],
   "source": [
    "h=0.534"
   ]
  },
  {
   "cell_type": "code",
   "execution_count": 4,
   "id": "5dadccd6",
   "metadata": {},
   "outputs": [],
   "source": [
    "MR=0.27187"
   ]
  },
  {
   "cell_type": "code",
   "execution_count": 5,
   "id": "3de35455",
   "metadata": {},
   "outputs": [],
   "source": [
    "L=0.79"
   ]
  },
  {
   "cell_type": "code",
   "execution_count": 6,
   "id": "d9e25572",
   "metadata": {},
   "outputs": [],
   "source": [
    "TS=1.6993"
   ]
  },
  {
   "cell_type": "code",
   "execution_count": 7,
   "id": "f014856f",
   "metadata": {},
   "outputs": [
    {
     "name": "stdout",
     "output_type": "stream",
     "text": [
      "0.014139505583333335\n"
     ]
    }
   ],
   "source": [
    "IR=((1/12)*MR*(L**2))\n",
    "print(IR)"
   ]
  },
  {
   "cell_type": "code",
   "execution_count": 8,
   "id": "1318695f",
   "metadata": {},
   "outputs": [],
   "source": [
    "TR=15.2802"
   ]
  },
  {
   "cell_type": "code",
   "execution_count": 9,
   "id": "10d5862b",
   "metadata": {},
   "outputs": [],
   "source": [
    "TP=36.808667"
   ]
  },
  {
   "cell_type": "code",
   "execution_count": 10,
   "id": "09dc6a8f",
   "metadata": {},
   "outputs": [
    {
     "name": "stdout",
     "output_type": "stream",
     "text": [
      "0.08204957323332426\n"
     ]
    }
   ],
   "source": [
    "IP=IR*((TP**2)/TR**2)\n",
    "print(IP)"
   ]
  },
  {
   "cell_type": "code",
   "execution_count": 13,
   "id": "dff55876",
   "metadata": {},
   "outputs": [
    {
     "name": "stdout",
     "output_type": "stream",
     "text": [
      "0.2944537229533243\n"
     ]
    }
   ],
   "source": [
    "I=IP+(MP*(h)**2)\n",
    "print(I)"
   ]
  },
  {
   "cell_type": "code",
   "execution_count": 14,
   "id": "e7315269",
   "metadata": {},
   "outputs": [
    {
     "name": "stdout",
     "output_type": "stream",
     "text": [
      "10.120802066283185\n"
     ]
    }
   ],
   "source": [
    "import math\n",
    "g=((I)/(MP*h*TS*TS))*4*(math.pi)*(math.pi)\n",
    "print(g)"
   ]
  },
  {
   "cell_type": "code",
   "execution_count": 15,
   "id": "bb99f78f",
   "metadata": {},
   "outputs": [],
   "source": [
    "import pandas as pd"
   ]
  },
  {
   "cell_type": "code",
   "execution_count": 16,
   "id": "644595dd",
   "metadata": {},
   "outputs": [],
   "source": [
    "Data1=pd.read_excel('Measuring g raw data .xlsx', usecols=\"D:F\",skiprows=0, nrows=5)"
   ]
  },
  {
   "cell_type": "code",
   "execution_count": 17,
   "id": "2ef85f04",
   "metadata": {},
   "outputs": [
    {
     "name": "stdout",
     "output_type": "stream",
     "text": [
      "   Time for 20 oscillations  (s)  Time for 1 Oscillation (s)  Average TS (s)\n",
      "0                          33.62                      1.6810          1.6993\n",
      "1                          34.09                      1.7045             NaN\n",
      "2                          33.87                      1.6935             NaN\n",
      "3                          34.07                      1.7035             NaN\n",
      "4                          34.28                      1.7140             NaN\n"
     ]
    }
   ],
   "source": [
    "print(Data1)"
   ]
  },
  {
   "cell_type": "code",
   "execution_count": 18,
   "id": "37fe5bc0",
   "metadata": {},
   "outputs": [],
   "source": [
    "Data2=pd.read_excel('Measuring g raw data .xlsx', usecols=\"I:K\",skiprows=0, nrows=5)"
   ]
  },
  {
   "cell_type": "code",
   "execution_count": 19,
   "id": "055c50c3",
   "metadata": {},
   "outputs": [
    {
     "name": "stdout",
     "output_type": "stream",
     "text": [
      "   Period of pendulum (s) (6 oscillations)  Period of pendulum(s)  \\\n",
      "0                                   220.13              36.688333   \n",
      "1                                   224.91              37.485000   \n",
      "2                                   220.44              36.740000   \n",
      "3                                   220.06              36.676667   \n",
      "4                                   218.72              36.453333   \n",
      "\n",
      "   Average TP (s)  \n",
      "0       36.808667  \n",
      "1             NaN  \n",
      "2             NaN  \n",
      "3             NaN  \n",
      "4             NaN  \n"
     ]
    }
   ],
   "source": [
    "print(Data2)"
   ]
  },
  {
   "cell_type": "markdown",
   "id": "d09d6c3d",
   "metadata": {},
   "source": [
    "\n",
    "The Period of the stiff pendulum is represented as TS "
   ]
  },
  {
   "cell_type": "code",
   "execution_count": 20,
   "id": "f98920a7",
   "metadata": {},
   "outputs": [
    {
     "name": "stdout",
     "output_type": "stream",
     "text": [
      "   Period of rod (s) (10 oscillations)  Period of rod (s)  Average TR (s)\n",
      "0                               153.53             15.353         15.2802\n",
      "1                               154.81             15.481             NaN\n",
      "2                               153.38             15.338             NaN\n",
      "3                               151.47             15.147             NaN\n",
      "4                               150.82             15.082             NaN\n"
     ]
    }
   ],
   "source": [
    "Data3=pd.read_excel('Measuring g raw data .xlsx', usecols=\"M:O\",skiprows=0, nrows=5)\n",
    "print(Data3)"
   ]
  },
  {
   "cell_type": "code",
   "execution_count": 21,
   "id": "1f2e6e70",
   "metadata": {},
   "outputs": [],
   "source": [
    "import numpy as np\n",
    "arrayTS=np.array([1.6810,1.7045,1.6935,1.7035,1.7140])"
   ]
  },
  {
   "cell_type": "code",
   "execution_count": 22,
   "id": "86e8fee2",
   "metadata": {},
   "outputs": [
    {
     "name": "stdout",
     "output_type": "stream",
     "text": [
      "0.005609367165732674\n"
     ]
    }
   ],
   "source": [
    "error_TS=(np.std(arrayTS, ddof=1))/(5**0.5)\n",
    "print(error_TS)"
   ]
  },
  {
   "cell_type": "code",
   "execution_count": 23,
   "id": "82cf0aef",
   "metadata": {},
   "outputs": [],
   "source": [
    "arrayTP=np.array([36.688333,37.485,36.74,36.676667,36.453333])"
   ]
  },
  {
   "cell_type": "code",
   "execution_count": 24,
   "id": "ca1a723f",
   "metadata": {},
   "outputs": [
    {
     "name": "stdout",
     "output_type": "stream",
     "text": [
      "0.1761118972257692\n"
     ]
    }
   ],
   "source": [
    "error_TP=(np.std(arrayTP, ddof=1))/(5**0.5)\n",
    "print(error_TP)"
   ]
  },
  {
   "cell_type": "code",
   "execution_count": 25,
   "id": "b4ba6825",
   "metadata": {},
   "outputs": [],
   "source": [
    "arrayTR=np.array([15.353,15.481,15.338,15.147,15.082])"
   ]
  },
  {
   "cell_type": "code",
   "execution_count": 26,
   "id": "09612c51",
   "metadata": {},
   "outputs": [
    {
     "name": "stdout",
     "output_type": "stream",
     "text": [
      "0.07279656585306736\n"
     ]
    }
   ],
   "source": [
    "error_TR=(np.std(arrayTR, ddof=1))/(5**0.5)\n",
    "print(error_TR)"
   ]
  },
  {
   "cell_type": "code",
   "execution_count": 27,
   "id": "ce0cecca",
   "metadata": {},
   "outputs": [],
   "source": [
    "error_MR=0.00001\n",
    "error_L=0.001\n",
    "rel_error_MR=error_MR/MR\n",
    "rel_error_L=error_L/L"
   ]
  },
  {
   "cell_type": "code",
   "execution_count": 28,
   "id": "50216d92",
   "metadata": {},
   "outputs": [
    {
     "name": "stdout",
     "output_type": "stream",
     "text": [
      "0.00021099273004056168\n"
     ]
    }
   ],
   "source": [
    "rel_error_IR=((((rel_error_MR)**2)+((2*rel_error_L)**2))**0.5)/12\n",
    "print(rel_error_IR)"
   ]
  },
  {
   "cell_type": "code",
   "execution_count": 29,
   "id": "1f02c020",
   "metadata": {},
   "outputs": [],
   "source": [
    "rel_error_TP=error_TP/TP\n",
    "rel_error_TR=error_TR/TR"
   ]
  },
  {
   "cell_type": "code",
   "execution_count": 30,
   "id": "6ae88ae6",
   "metadata": {},
   "outputs": [
    {
     "name": "stdout",
     "output_type": "stream",
     "text": [
      "0.0011081193527779077\n"
     ]
    }
   ],
   "source": [
    "error_IP=(((rel_error_IR)**2+(2*rel_error_TP)**2+(2*rel_error_TR)**2)**0.5)*IP\n",
    "print(error_IP)"
   ]
  },
  {
   "cell_type": "code",
   "execution_count": 31,
   "id": "716aa58e",
   "metadata": {},
   "outputs": [],
   "source": [
    "a=MP*h*h\n",
    "rel_error_h=0.001/h\n",
    "rel_error_MP=0.00001/MP\n",
    "error_a=(((2*rel_error_h)**2+(rel_error_MP)**2)**0.5)*a"
   ]
  },
  {
   "cell_type": "code",
   "execution_count": null,
   "id": "f1a32b9c",
   "metadata": {},
   "outputs": [],
   "source": []
  },
  {
   "cell_type": "code",
   "execution_count": null,
   "id": "748a5354",
   "metadata": {},
   "outputs": [],
   "source": []
  },
  {
   "cell_type": "code",
   "execution_count": 32,
   "id": "663f37ce",
   "metadata": {},
   "outputs": [],
   "source": [
    "a=MP*h*h\n",
    "rel_error_h=0.001/h\n",
    "rel_error_MP=0.00001/MP\n",
    "error_a=(((2*rel_error_h)**2+(rel_error_MP)**2)**0.5)*a"
   ]
  },
  {
   "cell_type": "code",
   "execution_count": 33,
   "id": "8898d7ef",
   "metadata": {},
   "outputs": [
    {
     "name": "stdout",
     "output_type": "stream",
     "text": [
      "0.0007967541992178066\n"
     ]
    }
   ],
   "source": [
    "error_I=((error_IP)**2)+((error_a)**2)**0.5\n",
    "rel_error_I=error_I/I\n",
    "print(error_I)"
   ]
  },
  {
   "cell_type": "code",
   "execution_count": 34,
   "id": "d235a289",
   "metadata": {},
   "outputs": [],
   "source": [
    "rel_error_TS=error_TS/TS"
   ]
  },
  {
   "cell_type": "code",
   "execution_count": 35,
   "id": "6b999a89",
   "metadata": {},
   "outputs": [],
   "source": [
    "rel_error_g=(((rel_error_I)**2+(rel_error_MP)**2+(rel_error_h)**2+(2*rel_error_TS)**2)**0.5)*4*math.pi*math.pi"
   ]
  },
  {
   "cell_type": "code",
   "execution_count": 36,
   "id": "a52c77c6",
   "metadata": {},
   "outputs": [],
   "source": [
    "error_g=rel_error_g*g"
   ]
  },
  {
   "cell_type": "code",
   "execution_count": 37,
   "id": "001fa150",
   "metadata": {},
   "outputs": [
    {
     "name": "stdout",
     "output_type": "stream",
     "text": [
      "10.120802066283185 +/- 2.947361040661687 m/s^2\n"
     ]
    }
   ],
   "source": [
    "print( g, \"+/-\", error_g, \"m/s^2\")"
   ]
  },
  {
   "cell_type": "code",
   "execution_count": 38,
   "id": "32671a42",
   "metadata": {},
   "outputs": [
    {
     "name": "stdout",
     "output_type": "stream",
     "text": [
      "The value of the acceleration due to gravity is 10.1 +/- 2.9 m/s^2\n"
     ]
    }
   ],
   "source": [
    "print(\"The value of the acceleration due to gravity is 10.1 +/- 2.9 m/s^2\")"
   ]
  },
  {
   "cell_type": "code",
   "execution_count": null,
   "id": "870ff049",
   "metadata": {},
   "outputs": [],
   "source": []
  },
  {
   "cell_type": "code",
   "execution_count": null,
   "id": "3dccdc16",
   "metadata": {},
   "outputs": [],
   "source": []
  },
  {
   "cell_type": "code",
   "execution_count": null,
   "id": "99e9bf30",
   "metadata": {},
   "outputs": [],
   "source": []
  }
 ],
 "metadata": {
  "kernelspec": {
   "display_name": "Python 3",
   "language": "python",
   "name": "python3"
  },
  "language_info": {
   "codemirror_mode": {
    "name": "ipython",
    "version": 3
   },
   "file_extension": ".py",
   "mimetype": "text/x-python",
   "name": "python",
   "nbconvert_exporter": "python",
   "pygments_lexer": "ipython3",
   "version": "3.8.8"
  }
 },
 "nbformat": 4,
 "nbformat_minor": 5
}
