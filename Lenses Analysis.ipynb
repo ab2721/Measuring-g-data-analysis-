{
 "cells": [
  {
   "cell_type": "code",
   "execution_count": 2,
   "id": "339266f8",
   "metadata": {},
   "outputs": [],
   "source": [
    "import numpy as np\n",
    "import matplotlib.pyplot as plt \n",
    "import pandas as pd"
   ]
  },
  {
   "cell_type": "code",
   "execution_count": 3,
   "id": "96de2d18",
   "metadata": {},
   "outputs": [
    {
     "name": "stdout",
     "output_type": "stream",
     "text": [
      "     (s^-1)  (sdash^-1)\n",
      "0  8.333333    2.087683\n",
      "1  5.882353    4.524887\n",
      "2  7.142857    3.355705\n",
      "3  6.250000    4.310345\n",
      "4  5.555556    4.761905\n",
      "5  5.000000    5.434783\n",
      "6  4.545455    5.917160\n"
     ]
    }
   ],
   "source": [
    "data=pd.read_excel('L1E2.xlsx',usecols=\"C:D\",skiprows=1, nrows=7)\n",
    "print(data)"
   ]
  },
  {
   "cell_type": "code",
   "execution_count": 4,
   "id": "1092d273",
   "metadata": {},
   "outputs": [
    {
     "name": "stdout",
     "output_type": "stream",
     "text": [
      "     xerror    yerror\n",
      "0  0.069444  0.004358\n",
      "1  0.034602  0.020475\n",
      "2  0.051020  0.011261\n",
      "3  0.039062  0.018579\n",
      "4  0.030864  0.022676\n",
      "5  0.025000  0.029537\n",
      "6  0.020661  0.035013\n"
     ]
    }
   ],
   "source": [
    "data2=pd.read_excel('L1E2.xlsx',usecols=\"E:F\",skiprows=1,nrows=7)\n",
    "print(data2)"
   ]
  },
  {
   "cell_type": "code",
   "execution_count": 18,
   "id": "93605bf1",
   "metadata": {},
   "outputs": [],
   "source": [
    "import numpy as np\n",
    "x = list(data['(s^-1)'])\n",
    "y = list(data['(sdash^-1)'])\n",
    "error1 =np.array(data2['yerror'])\n",
    "error2 =np.array(data2['xerror'])"
   ]
  },
  {
   "cell_type": "code",
   "execution_count": 19,
   "id": "2d181164",
   "metadata": {},
   "outputs": [
    {
     "data": {
      "image/png": "[encoded data removed]",
      "text/plain": [
       "<Figure size 432x288 with 1 Axes>"
      ]
     },
     "metadata": {
      "needs_background": "light"
     },
     "output_type": "display_data"
    },
    {
     "name": "stdout",
     "output_type": "stream",
     "text": [
      "[array([0.00435842, 0.0204746 , 0.01126075, 0.01857907, 0.02267574,\n",
      "       0.02953686, 0.03501278]), array([0.00435842, 0.0204746 , 0.01126075, 0.01857907, 0.02267574,\n",
      "       0.02953686, 0.03501278])]\n",
      "[array([0.06944444, 0.03460208, 0.05102041, 0.0390625 , 0.0308642 ,\n",
      "       0.025     , 0.02066116]), array([0.06944444, 0.03460208, 0.05102041, 0.0390625 , 0.0308642 ,\n",
      "       0.025     , 0.02066116])]\n"
     ]
    }
   ],
   "source": [
    "import matplotlib.pyplot as plt\n",
    "import numpy as np\n",
    "#error1=[1e-3,1e-3,1e-3,1e-3,1e-3,1e-3,1e-3]\n",
    "#error2=[1e-3,1e-3,1e-3,1e-3,1e-3,1e-3,1e-3]\n",
    "plt.scatter(x,y) #scatter vs plot, scatter =points\n",
    "plt.xlabel(\"1/s\")\n",
    "plt.ylabel(\"1/sdash\")\n",
    "yerrormin=error1\n",
    "yerrormax=error1\n",
    "xerrormin=error2\n",
    "xerrormax=error2\n",
    "\n",
    "yerror=[yerrormin,yerrormax]\n",
    "xerror=[xerrormin,xerrormax]\n",
    "plt.errorbar(x,y,xerr=xerror,yerr=yerror,fmt=\"o\",capsize=5)\n",
    "linear_model=np.polyfit(x,y,1)\n",
    "linear_model_fn=np.poly1d(linear_model)\n",
    "x_s=x #remove (0,3)\n",
    "plt.plot(x_s,linear_model_fn(x_s),color=\"red\")\n",
    "\n",
    "plt.show()\n",
    "\n",
    "print(yerror)\n",
    "print(xerror)"
   ]
  },
  {
   "cell_type": "code",
   "execution_count": 20,
   "id": "c35c97bc",
   "metadata": {},
   "outputs": [
    {
     "name": "stdout",
     "output_type": "stream",
     "text": [
      "[-0.99194236 10.39398307]\n",
      "covariance matrix\n",
      "[[ 0.00067892 -0.00414235]\n",
      " [-0.00414235  0.02625047]]\n",
      "Slope = -9.919e-01 +/- 2.606e-02\n",
      "Intercept = 1.039e+01 +/- 1.620e-01\n"
     ]
    }
   ],
   "source": [
    "\n",
    "#T,R_Cu,R_Al = np.loadtxt('Resistivity.txt',unpack=True)# Read in the data\n",
    "#errors_Al = 0.05*R_Al# Calculate 5% errors\n",
    "#errors_Cu = 0.05*R_Cu\n",
    "\n",
    "# The line below stores the fit coefficients in the fit_Al variable, and the covariance matrix in the cov_Al variable.\n",
    "# Note that the input arguments for polyfit() below are:\n",
    "# (1) the independent variable (T)\n",
    "# (2) the dependent variable (R_Al)\n",
    "# (3) the order of the polynomial to be fitted (1)\n",
    "# (4) the weights of each data point (w = 1/errors_Al)\n",
    "# (5) whether or not to return the covariance matrix (cov = True)\n",
    "fit_Al,cov_Al = np.polyfit(x,y,1,cov=True)\n",
    "\n",
    "print(fit_Al)\n",
    "print('covariance matrix')\n",
    "print(cov_Al)\n",
    "\n",
    "sig_0 = np.sqrt(cov_Al[0,0]) #The uncertainty in the slope\n",
    "sig_1 = np.sqrt(cov_Al[1,1]) #The uncertainty in the intercept\n",
    "\n",
    "print('Slope = %.3e +/- %.3e' %(fit_Al[0],sig_0))# Note the %.3e forces the values to be printed in scientific notation with 3 decimal places.\n",
    "print('Intercept = %.3e +/- %.3e' %(fit_Al[1],sig_1))"
   ]
  },
  {
   "cell_type": "code",
   "execution_count": 70,
   "id": "2bbbf9ec",
   "metadata": {},
   "outputs": [
    {
     "name": "stdout",
     "output_type": "stream",
     "text": [
      "   image and object ratio  s reciprocal\n",
      "0                3.916667      8.333333\n",
      "1                1.416667      5.882353\n",
      "2                2.166667      7.142857\n",
      "3                1.416667      6.250000\n",
      "4                1.083333      5.555556\n",
      "5                0.916667      5.000000\n",
      "6                0.750000      4.545455\n"
     ]
    }
   ],
   "source": [
    "data3=pd.read_excel('L1E2.xlsx',usecols=\"K:L\",skiprows=1, nrows=7)\n",
    "print(data3)"
   ]
  },
  {
   "cell_type": "code",
   "execution_count": 71,
   "id": "6a855cef",
   "metadata": {},
   "outputs": [
    {
     "name": "stdout",
     "output_type": "stream",
     "text": [
      "    xerror2   yerror2\n",
      "0  0.069444  0.001414\n",
      "1  0.034602  0.001414\n",
      "2  0.051020  0.001414\n",
      "3  0.039062  0.001414\n",
      "4  0.030864  0.001414\n",
      "5  0.025000  0.001414\n",
      "6  0.020661  0.001414\n"
     ]
    }
   ],
   "source": [
    "data4=pd.read_excel('L1E2.xlsx',usecols=\"M:N\",skiprows=1, nrows=7)\n",
    "print(data4)"
   ]
  },
  {
   "cell_type": "code",
   "execution_count": 76,
   "id": "524ed880",
   "metadata": {},
   "outputs": [],
   "source": [
    "x3 = list(data3['s reciprocal'])\n",
    "y3 = list(data3['image and object ratio'])\n",
    "error3=np.array(data4['yerror2'])\n",
    "error4=np.array(data4['xerror2'])"
   ]
  },
  {
   "cell_type": "code",
   "execution_count": 77,
   "id": "e3cabdf4",
   "metadata": {},
   "outputs": [
    {
     "data": {
      "image/png": "[encoded data removed]",
      "text/plain": [
       "<Figure size 432x288 with 1 Axes>"
      ]
     },
     "metadata": {
      "needs_background": "light"
     },
     "output_type": "display_data"
    },
    {
     "name": "stdout",
     "output_type": "stream",
     "text": [
      "[array([0.00141421, 0.00141421, 0.00141421, 0.00141421, 0.00141421,\n",
      "       0.00141421, 0.00141421]), array([0.00141421, 0.00141421, 0.00141421, 0.00141421, 0.00141421,\n",
      "       0.00141421, 0.00141421])]\n",
      "[array([0.06944444, 0.03460208, 0.05102041, 0.0390625 , 0.0308642 ,\n",
      "       0.025     , 0.02066116]), array([0.06944444, 0.03460208, 0.05102041, 0.0390625 , 0.0308642 ,\n",
      "       0.025     , 0.02066116])]\n"
     ]
    }
   ],
   "source": [
    "import numpy as np\n",
    "x = x3\n",
    "y = y3\n",
    "#error1 =np.array(data2['yerror'])\n",
    "#error2 =np.array(data2['xerror'])\n",
    "import matplotlib.pyplot as plt\n",
    "import numpy as np\n",
    "#error1=[1e-3,1e-3,1e-3,1e-3,1e-3,1e-3,1e-3]\n",
    "#error2=[1e-3,1e-3,1e-3,1e-3,1e-3,1e-3,1e-3]\n",
    "plt.scatter(x,y) #scatter vs plot, scatter =points\n",
    "plt.xlabel(\"reciprocal s(m)\")\n",
    "plt.ylabel(\"h(i)/h0\")\n",
    "yerrormin=error3\n",
    "yerrormax=error3\n",
    "xerrormin=error4\n",
    "xerrormax=error4\n",
    "\n",
    "yerror=[yerrormin,yerrormax]\n",
    "xerror=[xerrormin,xerrormax]\n",
    "plt.errorbar(x,y,xerr=xerror,yerr=yerror,fmt=\"o\",capsize=5)\n",
    "linear_model=np.polyfit(x,y,1)\n",
    "linear_model_fn=np.poly1d(linear_model)\n",
    "x_s=x2 #remove (0,3)\n",
    "plt.plot(x_s,linear_model_fn(x_s),color=\"red\")\n",
    "\n",
    "plt.show()\n",
    "\n",
    "print(yerror)\n",
    "print(xerror)"
   ]
  },
  {
   "cell_type": "code",
   "execution_count": 79,
   "id": "e8ff5ffb",
   "metadata": {},
   "outputs": [
    {
     "name": "stdout",
     "output_type": "stream",
     "text": [
      "[ 0.80758417 -3.26069895]\n",
      "covariance matrix\n",
      "[[ 0.01219963 -0.07443442]\n",
      " [-0.07443442  0.47169848]]\n",
      "Slope = 8.076e-01 +/- 1.105e-01\n",
      "Intercept = -3.261e+00 +/- 6.868e-01\n"
     ]
    }
   ],
   "source": [
    "fit_Al,cov_Al = np.polyfit(x3,y3,1,cov=True)\n",
    "\n",
    "print(fit_Al)\n",
    "print('covariance matrix')\n",
    "print(cov_Al)\n",
    "\n",
    "sig_0 = np.sqrt(cov_Al[0,0]) #The uncertainty in the slope\n",
    "sig_1 = np.sqrt(cov_Al[1,1]) #The uncertainty in the intercept\n",
    "\n",
    "print('Slope = %.3e +/- %.3e' %(fit_Al[0],sig_0))# Note the %.3e forces the values to be printed in scientific notation with 3 decimal places.\n",
    "print('Intercept = %.3e +/- %.3e' %(fit_Al[1],sig_1))"
   ]
  },
  {
   "cell_type": "markdown",
   "id": "9ea1cf39",
   "metadata": {},
   "source": [
    "Plotting hi/h0 against 1/s (since the two are proportional). "
   ]
  },
  {
   "cell_type": "code",
   "execution_count": null,
   "id": "f965c993",
   "metadata": {},
   "outputs": [],
   "source": []
  }
 ],
 "metadata": {
  "kernelspec": {
   "display_name": "Python 3",
   "language": "python",
   "name": "python3"
  },
  "language_info": {
   "codemirror_mode": {
    "name": "ipython",
    "version": 3
   },
   "file_extension": ".py",
   "mimetype": "text/x-python",
   "name": "python",
   "nbconvert_exporter": "python",
   "pygments_lexer": "ipython3",
   "version": "3.8.8"
  }
 },
 "nbformat": 4,
 "nbformat_minor": 5
}
